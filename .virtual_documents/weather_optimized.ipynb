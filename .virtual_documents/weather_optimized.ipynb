


import pandas as pd
import numpy as np
from sklearn.metrics import mean_absolute_error
from sklearn.linear_model import Ridge





weather = pd.read_csv("pwm_weather.csv", index_col="DATE")


#core data values noted by the NOAA
core_weather = weather[["PRCP","SNOW","SNWD","TMAX","TMIN"]].copy()
core_weather.columns = ["precip", "snow", "snow_depth", "temp_max", "temp_min"]


core_weather.apply(pd.isnull).sum()/weather.shape[0]


core_weather["snow_depth"] = core_weather["snow_depth"].fillna(0)


core_weather = core_weather.ffill()


core_weather.apply(pd.isnull).sum()/weather.shape[0]


core_weather.dtypes


core_weather.index


core_weather.index = pd.to_datetime(core_weather.index)


core_weather.index


core_weather.index.year


core_weather.apply(lambda x: (x==9999).sum())


core_weather[["temp_max","temp_min"]].plot()


core_weather.index.year.value_counts().sort_index()


core_weather["precip"].plot()


# how much it __ each year
core_weather.groupby(core_weather.index.year).sum()


#create column w tomorrow's temperature as "target" -> ensure prediction for tmrw's temp is based on prev data
core_weather["target"] = core_weather.shift(-1)["temp_max"]


core_weather


# get rid of last row w/ NaN target
core_weather = core_weather.iloc[:-1,:].copy()


core_weather


reg = Ridge(alpha = .1)


predictors = ["precip", "temp_max", "temp_min"]


train = core_weather.loc[:"2020-12-31"]


test = core_weather.loc["2021-01-01":]


reg.fit(train[predictors],train["target"])


predictions = reg.predict(test[predictors])


mean_absolute_error(test["target"],predictions)


# evaluating model by comparing actual vs prediction
combined = pd.concat([test["target"],pd.Series(predictions, index = test.index)], axis = 1)
combined.columns = ["actual","predictions"]


combined


combined.plot()


reg.coef_


def create_predictions(predictors, core_weather, req):
    train = core_weather.loc[:"2020-12-31"]
    test = core_weather.loc["2021-01-01":]
    reg.fit(train[predictors],train["target"])
    predictions = reg.predict(test[predictors])
    error = mean_absolute_error(test["target"], predictions)                             
    combined = pd.concat([test["target"], pd.Series(predictions, index = test.index)], axis = 1)
    combined.columns = ["actual", "predictions"]
    return error, combined


# average temp of each month
core_weather["month_max"] = core_weather["temp_max"].rolling(30).mean()


core_weather


core_weather = core_weather.iloc[30:,:].copy()


# difference for avg monthly temp vs temp in a given day
core_weather["month_day_max"] = core_weather["month_max"] / core_weather["temp_max"]


core_weather["range"] = core_weather["temp_max"] - core_weather["temp_min"]


core_weather["avg_temp"] = (core_weather["temp_max"] + core_weather["temp_min"]) / 2


core_weather["max_min"] = core_weather["temp_max"]/core_weather["temp_min"]


predictors = ["precip", "temp_max", "temp_min", "month_max", "month_day_max", "range", "avg_temp"]


core_weather


core_weather.apply(np.isinf).sum()/weather.shape[0]


core_weather[core_weather["temp_max"] == 0]





# replace cell w/ temp_max val of 0 with the temp_max of the previous day
core_weather.loc[core_weather["temp_max"] == 0, "temp_max"] = (core_weather["temp_max"].shift())


core_weather[np.isinf(core_weather["month_day_max"])]


core_weather.apply(pd.isnull).sum()/weather.shape[0]


error, combined = create_predictions(predictors, core_weather, reg)


error


combined.plot()


# use previous rows temp in the same month to calc the mean for each day
core_weather["month_avg"] = (
    core_weather.groupby(core_weather.index.month)["temp_max"]
    .expanding()
    .mean()
    .reset_index(level=0, drop=True)
)


core_weather


core_weather["day_of_year_avg"] = core_weather["temp_max"].groupby(core_weather.index.day_of_year).transform(lambda x: x.expanding(1).mean())


predictors = ["precip", "temp_max", "temp_min", "month_max", "month_day_max", "range", "avg_temp", "month_avg", "day_of_year_avg"]


error, combined = create_predictions(predictors, core_weather, reg)


error


reg.coef_


core_weather.corr()["target"]


combined["diff"] = (combined["actual"] - combined["predictions"]).abs()


combined.sort_values("diff", ascending = False).head()



